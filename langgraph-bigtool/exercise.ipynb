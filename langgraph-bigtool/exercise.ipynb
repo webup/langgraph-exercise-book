{
 "cells": [
  {
   "cell_type": "markdown",
   "metadata": {},
   "source": [
    "# langgraph-bigtool\n",
    "\n",
    "[`langgraph-bigtool`](https://github.com/langchain-ai/langgraph-bigtool) is a Python library for creating [LangGraph](https://langchain-ai.github.io/langgraph/) agents that can access large numbers of tools. It leverages LangGraph's long-term [memory store](https://langchain-ai.github.io/langgraph/how-tos/memory/semantic-search/) to allow an agent to search for and retrieve relevant tools for a given problem.\n",
    "\n",
    "## BigTool: Tools \"On-demand\"\n",
    "\n",
    "- Has access to a single retrieval tool initially\n",
    "- Dynamically searches for and retrieves only relevant tools\n",
    "- Only loads what's needed for the specific task\n",
    "\n",
    "![](https://mirror-feeling-d80.notion.site/image/attachment%3Ae0311609-3bf3-43fd-8b41-e18a7414ba8f%3Aimage.png?table=block&id=1c180852-7b17-8011-b804-e6f269ea2a48&spaceId=c2810b1e-a85a-492f-bc51-5aa2decfa5ac&width=1420&userId=&cache=v2)\n",
    "\n",
    "### Benefits\n",
    "\n",
    "- Reasoning load - Reduced cognitive load for the agent\n",
    "- Scalability - can handle hundreds/thousands of tools\n",
    "\n",
    "### vs Multi-agent\n",
    "\n",
    "- **Pro**: Doesn't require putting tools into explicit groups, lower overhead (single agent)\n",
    "- **Con**: If there is an underlying organization of the tools (e.g., into groups), you might be better off representing that explicitly via separate agents (each of which can have distinct system messages, which bigtool also doesn't support).\n",
    "\n",
    "## Features\n",
    "\n",
    "- 🧰 **Scalable access to tools**: Equip agents with hundreds or thousands of tools.\n",
    "- 📝 **Storage of tool metadata**: Control storage of tool descriptions, namespaces, and other information through LangGraph's built-in [persistence layer](https://langchain-ai.github.io/langgraph/concepts/persistence/). Includes support for [in-memory](https://langchain-ai.github.io/langgraph/how-tos/cross-thread-persistence/) and [Postgres](https://langchain-ai.github.io/langgraph/reference/store/#langgraph.store.postgres.PostgresStore) backends.\n",
    "- 💡 **Customization of tool retrieval**: Optionally define custom functions for tool retrieval.\n",
    "\n",
    "This library is built on top of [LangGraph](https://github.com/langchain-ai/langgraph), a powerful framework for building agent applications, and comes with out-of-box support for [streaming](https://langchain-ai.github.io/langgraph/how-tos/#streaming), [short-term and long-term memory](https://langchain-ai.github.io/langgraph/concepts/memory/) and [human-in-the-loop](https://langchain-ai.github.io/langgraph/concepts/human_in_the_loop/)."
   ]
  },
  {
   "cell_type": "markdown",
   "metadata": {},
   "source": [
    "## Quickstart\n",
    "\n",
    "We demonstrate `langgraph-bigtool` by equipping an agent with all functions from Python's built-in `math` library.\n",
    "\n",
    "> This includes about 50 tools. Some LLMs can handle this number of tools together in a single invocation without issue. This example is for demonstration purposes.\n",
    "\n",
    "We use Ollama for both Chat and Embeddings models.\n",
    "\n",
    "```sh\n",
    "pip install -qU langgraph-bigtool langchain-ollama\n",
    "```"
   ]
  },
  {
   "cell_type": "code",
   "execution_count": 7,
   "metadata": {},
   "outputs": [
    {
     "data": {
      "text/plain": [
       "53"
      ]
     },
     "execution_count": 7,
     "metadata": {},
     "output_type": "execute_result"
    }
   ],
   "source": [
    "import math\n",
    "import types\n",
    "import uuid\n",
    "\n",
    "from langchain.chat_models import init_chat_model\n",
    "from langchain.embeddings import init_embeddings\n",
    "from langgraph.store.memory import InMemoryStore\n",
    "\n",
    "from langgraph_bigtool import create_agent\n",
    "from langgraph_bigtool.utils import (\n",
    "    convert_positional_only_function_to_tool\n",
    ")\n",
    "\n",
    "# Collect functions from `math` built-in\n",
    "all_tools = []\n",
    "for function_name in dir(math):\n",
    "    function = getattr(math, function_name)\n",
    "    if not isinstance(\n",
    "        function, types.BuiltinFunctionType\n",
    "    ):\n",
    "        continue\n",
    "    # This is an idiosyncrasy of the `math` library\n",
    "    if tool := convert_positional_only_function_to_tool(\n",
    "        function\n",
    "    ):\n",
    "        all_tools.append(tool)\n",
    "\n",
    "# Create registry of tools. This is a dict mapping\n",
    "# identifiers to tool instances.\n",
    "tool_registry = {\n",
    "    str(uuid.uuid4()): tool\n",
    "    for tool in all_tools\n",
    "}\n",
    "\n",
    "len(all_tools)"
   ]
  },
  {
   "cell_type": "code",
   "execution_count": 8,
   "metadata": {},
   "outputs": [],
   "source": [
    "\n",
    "# Index tool names and descriptions in the LangGraph\n",
    "# Store. Here we use a simple in-memory store.\n",
    "embeddings = init_embeddings(\"ollama:nomic-embed-text\")\n",
    "\n",
    "store = InMemoryStore(\n",
    "    index={\n",
    "        \"embed\": embeddings,\n",
    "        \"dims\": 256,\n",
    "        \"fields\": [\"description\"],\n",
    "    }\n",
    ")\n",
    "for tool_id, tool in tool_registry.items():\n",
    "    store.put(\n",
    "        (\"tools\",),\n",
    "        tool_id,\n",
    "        {\n",
    "            \"description\": f\"{tool.name}: {tool.description}\",\n",
    "        },\n",
    "    )\n",
    "\n",
    "# Initialize agent\n",
    "llm = init_chat_model(\"ollama:qwen2.5:latest\")\n",
    "\n",
    "builder = create_agent(llm, tool_registry)\n",
    "agent = builder.compile(store=store)"
   ]
  },
  {
   "cell_type": "code",
   "execution_count": 2,
   "metadata": {},
   "outputs": [
    {
     "data": {
      "image/png": "[encoded data removed]",
      "text/plain": [
       "<IPython.core.display.Image object>"
      ]
     },
     "execution_count": 2,
     "metadata": {},
     "output_type": "execute_result"
    }
   ],
   "source": [
    "from IPython.display import Image\n",
    "\n",
    "Image(agent.get_graph().draw_mermaid_png())"
   ]
  },
  {
   "cell_type": "code",
   "execution_count": 4,
   "metadata": {},
   "outputs": [
    {
     "name": "stdout",
     "output_type": "stream",
     "text": [
      "==================================\u001b[1m Ai Message \u001b[0m==================================\n",
      "Tool Calls:\n",
      "  retrieve_tools (577cd5c8-023d-4a0e-b0a6-68aecc3f540c)\n",
      " Call ID: 577cd5c8-023d-4a0e-b0a6-68aecc3f540c\n",
      "  Args:\n",
      "    query: arc cosine calculator\n",
      "=================================\u001b[1m Tool Message \u001b[0m=================================\n",
      "\n",
      "Available tools: ['acos', 'asin']\n",
      "==================================\u001b[1m Ai Message \u001b[0m==================================\n",
      "Tool Calls:\n",
      "  acos (89467a08-4d6a-4cf0-891d-42048c7dc6f8)\n",
      " Call ID: 89467a08-4d6a-4cf0-891d-42048c7dc6f8\n",
      "  Args:\n",
      "    x: 0.5\n",
      "=================================\u001b[1m Tool Message \u001b[0m=================================\n",
      "Name: acos\n",
      "\n",
      "1.0471975511965976\n",
      "==================================\u001b[1m Ai Message \u001b[0m==================================\n",
      "\n",
      "The arc cosine of 0.5 is approximately 1.047 radians, which is equivalent to 60 degrees.\n"
     ]
    }
   ],
   "source": [
    "query = \"Use available tools to calculate arc cosine of 0.5.\"\n",
    "\n",
    "# Test it out\n",
    "for step in agent.stream(\n",
    "    {\"messages\": query},\n",
    "    stream_mode=\"updates\",\n",
    "):\n",
    "    for _, update in step.items():\n",
    "        for message in update.get(\"messages\", []):\n",
    "            message.pretty_print()"
   ]
  },
  {
   "cell_type": "markdown",
   "metadata": {},
   "source": [
    "👆 LangSmith Trace: https://smith.langchain.com/public/75b82ea4-974b-45c1-8f6e-c00d4c1a750f/r"
   ]
  },
  {
   "cell_type": "markdown",
   "metadata": {},
   "source": [
    "### Customizing tool retrieval\n",
    "\n",
    "`langgraph-bigtool` equips an agent with a tool that is used to retrieve tools in the registry. You can customize the retrieval by passing `retrieve_tools_function` and / or `retrieve_tools_coroutine` into `create_agent`. These functions are expected to return a list of IDs as output."
   ]
  },
  {
   "cell_type": "code",
   "execution_count": null,
   "metadata": {},
   "outputs": [],
   "source": [
    "from langgraph.prebuilt import InjectedStore\n",
    "from langgraph.store.base import BaseStore\n",
    "from typing_extensions import Annotated\n",
    "\n",
    "\n",
    "def retrieve_tools(\n",
    "    query: str,\n",
    "    # Add custom arguments here...\n",
    "    *,\n",
    "    store: Annotated[BaseStore, InjectedStore],\n",
    ") -> list[str]:\n",
    "    \"\"\"Retrieve a tool to use, given a search query.\"\"\"\n",
    "    results = store.search((\"tools\",), query=query, limit=2)\n",
    "    tool_ids = [result.key for result in results]\n",
    "    # Insert your custom logic here...\n",
    "    return tool_ids\n",
    "\n",
    "builder = create_agent(\n",
    "    llm, tool_registry, retrieve_tools_function=retrieve_tools\n",
    ")\n",
    "agent = builder.compile(store=store)"
   ]
  },
  {
   "cell_type": "markdown",
   "metadata": {},
   "source": [
    "#### Retrieving tools without LangGraph Store\n",
    "\n",
    "You can implement arbitrary logic for the tool retrieval, which does not have to run semantic search against a query. Below, we return collections of tools corresponding to categories:"
   ]
  },
  {
   "cell_type": "code",
   "execution_count": null,
   "metadata": {},
   "outputs": [],
   "source": [
    "tool_registry = {\n",
    "    \"id_1\": get_balance,\n",
    "    \"id_2\": get_history,\n",
    "    \"id_3\": create_ticket,\n",
    "}\n",
    "\n",
    "def retrieve_tools(\n",
    "    category: Literal[\"billing\", \"service\"],\n",
    ") -> list[str]:\n",
    "    \"\"\"Get tools for a category.\"\"\"\n",
    "    if category == \"billing\":\n",
    "        return [\"id_1\", \"id_2\"]\n",
    "    else:\n",
    "        return [\"id_3\"]"
   ]
  },
  {
   "cell_type": "markdown",
   "metadata": {},
   "source": [
    "## Related work\n",
    "\n",
    "- [Toolshed: Scale Tool-Equipped Agents with Advanced RAG-Tool Fusion and Tool Knowledge Bases](https://doi.org/10.48550/arXiv.2410.14594) - Lumer, E., Subbiah, V.K., Burke, J.A., Basavaraju, P.H. & Huber, A. (2024). arXiv:2410.14594.\n",
    "\n",
    "- [Graph RAG-Tool Fusion](https://doi.org/10.48550/arXiv.2502.07223) - Lumer, E., Basavaraju, P.H., Mason, M., Burke, J.A. & Subbiah, V.K. (2025). arXiv:2502.07223.\n",
    "\n",
    "- https://github.com/quchangle1/LLM-Tool-Survey\n",
    "\n",
    "- [Retrieval Models Aren't Tool-Savvy: Benchmarking Tool Retrieval for Large Language Models](https://doi.org/10.48550/arXiv.2503.01763) - Shi, Z., Wang, Y., Yan, L., Ren, P., Wang, S., Yin, D. & Ren, Z. arXiv:2503.01763."
   ]
  }
 ],
 "metadata": {
  "kernelspec": {
   "display_name": ".venv",
   "language": "python",
   "name": "python3"
  },
  "language_info": {
   "codemirror_mode": {
    "name": "ipython",
    "version": 3
   },
   "file_extension": ".py",
   "mimetype": "text/x-python",
   "name": "python",
   "nbconvert_exporter": "python",
   "pygments_lexer": "ipython3",
   "version": "3.13.2"
  }
 },
 "nbformat": 4,
 "nbformat_minor": 2
}
